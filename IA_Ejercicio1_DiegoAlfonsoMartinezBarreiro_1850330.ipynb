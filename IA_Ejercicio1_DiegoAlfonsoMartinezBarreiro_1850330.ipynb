{
  "cells": [
    {
      "cell_type": "markdown",
      "metadata": {
        "id": "view-in-github",
        "colab_type": "text"
      },
      "source": [
        "<a href=\"https://colab.research.google.com/github/DiegoMB69/Primer_Examen_Parcial_Sabatinos/blob/main/IA_Ejercicio1_DiegoAlfonsoMartinezBarreiro_1850330.ipynb\" target=\"_parent\"><img src=\"https://colab.research.google.com/assets/colab-badge.svg\" alt=\"Open In Colab\"/></a>"
      ]
    },
    {
      "cell_type": "markdown",
      "source": [
        "Actividad 2: Ejercicios Basicos en Python,\n",
        "Diego Alfonso Martinez Barreiro  1850330  Sabados N1-N3"
      ],
      "metadata": {
        "id": "11pvKyg_BwRH"
      }
    },
    {
      "cell_type": "code",
      "source": [
        "#Ejercicio 1: Aqui podemos observar que el programa saluda al usuario por su nombre, a exceptuar de \"Ana, Juan y Pedro\" \n",
        "\n",
        "NOMBRE = input(\"Introduce tu nombre aqui:\")\n",
        "\n",
        "if NOMBRE == \"Ana\":\n",
        "  print(\"ERROR\")\n",
        "  if NOMBRE == \"Juan\":\n",
        "    print(\"ERROR\")   \n",
        "  if NOMBRE == \"Pedro\":\n",
        "    print(\"ERROR\")\n",
        "\n",
        "else:\n",
        "  print(\"Hola \" + NOMBRE + \", mucho gusto.\")"
      ],
      "metadata": {
        "id": "QPJkbN4wCpdR",
        "colab": {
          "base_uri": "https://localhost:8080/"
        },
        "outputId": "c5f9d20a-83ca-4587-e3aa-7de9b1f99956"
      },
      "execution_count": 91,
      "outputs": [
        {
          "output_type": "stream",
          "name": "stdout",
          "text": [
            "Introduce tu nombre aqui:Ana\n",
            "ERROR\n"
          ]
        }
      ]
    },
    {
      "cell_type": "code",
      "source": [
        "#Ejercicio 2: En este ejercicio la funcion regresara el ultimo elemento de una lista que revierta el orden de la lista y se imprimira\n",
        "\n",
        "lista = [\"house\", \"car\", \"room\", \"door\", \"shoes\"]\n",
        "lista_invertida = lista[::-1]\n",
        "print(lista_invertida)"
      ],
      "metadata": {
        "id": "Dpd3_rYmI6KS",
        "colab": {
          "base_uri": "https://localhost:8080/"
        },
        "outputId": "829661a1-126b-4e95-da7c-2dd89459d335"
      },
      "execution_count": 60,
      "outputs": [
        {
          "output_type": "stream",
          "name": "stdout",
          "text": [
            "['shoes', 'door', 'room', 'car', 'house']\n"
          ]
        }
      ]
    },
    {
      "cell_type": "code",
      "source": [
        "#Ejercicio 3: La funcion hara que la lista de strings se imprima linea por linea en un marco rectangular\n",
        "\n",
        "lista = [\"Hola\", \"profesor,\", \"mi\", \"nombre\", \"es\", \"Diego\", \"Alfonso\", \"Martinez\", \"Barreiro.\"]\n",
        "for x in lista:\n",
        "  print(x)"
      ],
      "metadata": {
        "id": "VTk-YCAkI6bp",
        "colab": {
          "base_uri": "https://localhost:8080/"
        },
        "outputId": "872a7e47-f229-4fe2-a043-a149c0c163a7"
      },
      "execution_count": 1,
      "outputs": [
        {
          "output_type": "stream",
          "name": "stdout",
          "text": [
            "Hola\n",
            "profesor,\n",
            "mi\n",
            "nombre\n",
            "es\n",
            "Diego\n",
            "Alfonso\n",
            "Martinez\n",
            "Barreiro.\n"
          ]
        }
      ]
    }
  ],
  "metadata": {
    "colab": {
      "collapsed_sections": [],
      "name": "Ejercicios Basicos en Python",
      "toc_visible": true,
      "provenance": [],
      "include_colab_link": true
    },
    "kernelspec": {
      "display_name": "Python 3",
      "name": "python3"
    }
  },
  "nbformat": 4,
  "nbformat_minor": 0
}